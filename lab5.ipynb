{
 "cells": [
  {
   "cell_type": "markdown",
   "metadata": {},
   "source": [
    "# CIS024C - Spring Intercession 2022\n",
    "\n",
    "## Lab 5\n",
    "\n",
    "**Lab 5 consists the below topics**\n",
    "\n",
    "Working with Files\n",
    "\n",
    "- Opening, Reading, Writing to files\n",
    "\n",
    "- Parsing file content\n",
    "\n",
    "Feel free to search the web for how you can solve these exercises.\n",
    "\n",
    "We will review them during class.\n",
    "\n",
    "**Students will be given partial credit for attemping to solve the exercises. You will be given the solutions during class and are required to use the solution to update your lab with the correct solutions**\n",
    "\n",
    "You will need to download this notebook and use this as a starting point for your homework. You will just need to fill in the content of each code-block (cell) and execute. Once you have completed all the exercises, you will need to save this notebook and upload it into Canvas.\n",
    "\n",
    "Note also the exercises build on top of one another so you might be able to do the next exercise if you have not completed the previous exercise.\n",
    "\n",
    "Post any questions you have on our Slack discussions channel"
   ]
  },
  {
   "cell_type": "markdown",
   "metadata": {},
   "source": [
    "#### Exercise 1 (20 points)\n",
    "\n",
    "Download the file movies.csv from the below location and open the file, and show the content of the first 10 lines.\n",
    "\n",
    "https://raw.githubusercontent.com/dorairajsanjay/cis24c_fall2021_shared/master/movies.txt \n",
    "\n",
    "Note that this is a tab separated list of\n",
    "  movie id | movie title | release date | video release date |\n",
    "  IMDb URL | unknown | Action | Adventure | Animation |\n",
    "  Children's | Comedy | Crime | Documentary | Drama | Fantasy |\n",
    "  Film-Noir | Horror | Musical | Mystery | Romance | Sci-Fi |\n",
    "  Thriller | War | Western |\n",
    "\n",
    "  The last 19 fields are the genres, a 1 indicates the movie\n",
    "  is of that genre, a 0 indicates it is not; movies can be in\n",
    "  several genres at once.\n",
    "  The movie ids are the ones used in the u.data data set."
   ]
  },
  {
   "cell_type": "code",
   "execution_count": 1,
   "metadata": {},
   "outputs": [],
   "source": [
    "### YOUR CODE GOES BELOW\n",
    "\n",
    "\n",
    "### END CODE"
   ]
  },
  {
   "cell_type": "markdown",
   "metadata": {},
   "source": [
    "#### Exercise 2 (20 points)\n",
    "\n",
    "Parse the contents of the file and display only the movie title, release date and the IMDB URL"
   ]
  },
  {
   "cell_type": "code",
   "execution_count": 2,
   "metadata": {},
   "outputs": [],
   "source": [
    "### YOUR CODE GOES BELOW\n",
    "\n",
    "\n",
    "### END CODE"
   ]
  },
  {
   "cell_type": "markdown",
   "metadata": {},
   "source": [
    "#### Exercise 3 (20 points)\n",
    "\n",
    "Download the file alice.txt from the below location.\n",
    "\n",
    "https://raw.githubusercontent.com/dorairajsanjay/cis24c_fall2021_shared/master/alice.txt \n",
    "\n",
    "Write a Python program to open the file and count the number of (1) characters, (2) words and (3) lines, in the file\n"
   ]
  },
  {
   "cell_type": "code",
   "execution_count": 3,
   "metadata": {},
   "outputs": [],
   "source": [
    "### YOUR CODE GOES BELOW\n",
    "\n",
    "\n",
    "### END CODE"
   ]
  },
  {
   "cell_type": "markdown",
   "metadata": {},
   "source": [
    "#### Exercise 4 (20 points)\n",
    "\n",
    "Write a python program that uses a while loop to ask the user for a word. The program must then look up the word in the alice.txt file. If the word is found, display \"Match found\" else, ask the user to try again. If the user enters \"end\", then abort the while loop. \n"
   ]
  },
  {
   "cell_type": "code",
   "execution_count": 4,
   "metadata": {},
   "outputs": [],
   "source": [
    "### YOUR CODE GOES BELOW\n",
    "\n",
    "\n",
    "### END CODE"
   ]
  },
  {
   "cell_type": "markdown",
   "metadata": {},
   "source": [
    "#### Exercise 5 (20 points)\n",
    "\n",
    "\n",
    "Write a python program that uses a while loop to ask the user for a word. The program must compute the number of times the word appears in the alice.txt file. If the word appears 0 times, display \"Not found\", otherwise, display the count. If the user enters \"end\", then abort the while loop. "
   ]
  },
  {
   "cell_type": "code",
   "execution_count": 5,
   "metadata": {},
   "outputs": [],
   "source": [
    "### YOUR CODE GOES BELOW\n",
    "\n",
    "\n",
    "### END CODE"
   ]
  },
  {
   "cell_type": "markdown",
   "metadata": {},
   "source": [
    "## When completed, Save, download the notebook and upload into Canvas"
   ]
  },
  {
   "cell_type": "code",
   "execution_count": null,
   "metadata": {},
   "outputs": [],
   "source": []
  }
 ],
 "metadata": {
  "kernelspec": {
   "display_name": "Python 3",
   "language": "python",
   "name": "python3"
  },
  "language_info": {
   "codemirror_mode": {
    "name": "ipython",
    "version": 3
   },
   "file_extension": ".py",
   "mimetype": "text/x-python",
   "name": "python",
   "nbconvert_exporter": "python",
   "pygments_lexer": "ipython3",
   "version": "3.8.5"
  }
 },
 "nbformat": 4,
 "nbformat_minor": 2
}
