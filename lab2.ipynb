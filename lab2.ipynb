{
 "cells": [
  {
   "cell_type": "markdown",
   "metadata": {},
   "source": [
    "# CIS024C - Spring Intercession 2022\n",
    "\n",
    "## Lab 2\n",
    "\n",
    "**Lab 2 the below topics\n",
    "\n",
    "1. Conditionals - if/elif/else\n",
    "2. Repetition - for, while\n",
    "3. Iterators\n",
    "\n",
    "Feel free to search the web for how you can solve these exercises.\n",
    "\n",
    "We will review them during class.\n",
    "\n",
    "**Students will be given points for attemping to solve the exercises. It is not required that you have the correct result **\n",
    "\n",
    "You will need to download this notebook and use this as a starting point for your homework. You will just need to fill in the content of each code-block (cell) and execute. Once you have completed all the exercises, you will need to save this notebook and upload it into Canvas.\n",
    "\n",
    "Note also the exercises build on top of one another so you might be able to do the next exercise if you have not completed the previous exercise.\n",
    "\n",
    "Post any questions you have on our Slack discussions channel"
   ]
  },
  {
   "cell_type": "markdown",
   "metadata": {},
   "source": [
    "#### Exercise 1 (20 points)\n",
    "\n",
    "Write a Python program to obtain the student score from the student. Perform the below check\n",
    "\n",
    "* If the student’s score is < 80, mark the student as fail\n",
    "* If the student’s score is greater than or equal to 80, then perform the below check in a nested IF-ELSE statement\n",
    "* If student score is >= 90, mark the grade as A\n",
    "* If student score is greater than or equal to 80 but less than 90, mark the grade as B"
   ]
  },
  {
   "cell_type": "code",
   "execution_count": 2,
   "metadata": {},
   "outputs": [],
   "source": [
    "### YOUR CODE GOES BELOW\n",
    "\n",
    "\n",
    "### END CODE"
   ]
  },
  {
   "cell_type": "markdown",
   "metadata": {},
   "source": [
    "#### Exercise 2 (20 points)\n",
    "\n",
    "Write a Python to get the salary of three employees in an organization. \n",
    "\n",
    "Check to see if any two employees have the same salary. Display an appropriate message.\n"
   ]
  },
  {
   "cell_type": "code",
   "execution_count": null,
   "metadata": {},
   "outputs": [],
   "source": [
    "### YOUR CODE GOES BELOW\n",
    "\n",
    "\n",
    "### END CODE"
   ]
  },
  {
   "cell_type": "markdown",
   "metadata": {},
   "source": [
    "#### Exercise 3 (20 points)\n",
    "\n",
    "Write a Python program that uses a for loop to get the age information for six students. \n",
    "\n",
    "* Find the average age and print it on the screen.\n",
    "* Find the median age and print it to the screen\n",
    "\n",
    "**For example:**\n",
    "\n",
    "```\n",
    "\n",
    "Enter age: 20\n",
    "Enter age: 20\n",
    "Enter age: 20\n",
    "Enter age: 20\n",
    "Enter age: 20\n",
    "Enter age: 20\n",
    "\n",
    "The average is 20\n",
    "The median is 20\n",
    "```\n",
    "\n"
   ]
  },
  {
   "cell_type": "code",
   "execution_count": null,
   "metadata": {},
   "outputs": [],
   "source": [
    "### YOUR CODE GOES BELOW\n",
    "\n",
    "\n",
    "### END CODE"
   ]
  },
  {
   "cell_type": "markdown",
   "metadata": {},
   "source": [
    "#### Exercise 4 (20 points)\n",
    "\n",
    "Write a Python program to get the user name and City of residence from many users. \n",
    "\n",
    "Use a While loop to accept the information. Display the information that you have accepted.\n",
    "\n",
    "Exit the while loop if the name “None” is encountered.\n",
    "\n",
    "**For example:**\n",
    "\n",
    "```\n",
    "\n",
    "Enter username: Dominic Rafael\n",
    "Enter city of residence: Venice\n",
    "\n",
    "Enter username: Salvator Jugador\n",
    "Enter city of residence: Naples\n",
    "\n",
    "Enter username: None\n",
    "\n",
    "```\n",
    "\n",
    "Exit Program"
   ]
  },
  {
   "cell_type": "code",
   "execution_count": null,
   "metadata": {},
   "outputs": [],
   "source": [
    "### YOUR CODE GOES BELOW\n",
    "\n",
    "\n",
    "### END CODE"
   ]
  },
  {
   "cell_type": "markdown",
   "metadata": {},
   "source": [
    "#### Exercise 5 (20 points)\n",
    "\n",
    "Write a python program that accepts a line of text from the user. \n",
    "\n",
    "Use a for loop to go through all characters and display the vowels and consonants. \n",
    "\n",
    "If a vowel or consonant is repeating, make sure to print it out only once\n",
    "\n",
    "**for example**\n",
    "\n",
    "```\n",
    "\n",
    "Enter a line of text: Jack and Jill\n",
    "\n",
    "Vowels are: ai\n",
    "Consonants are: jckndl\n",
    "```\n"
   ]
  },
  {
   "cell_type": "code",
   "execution_count": null,
   "metadata": {},
   "outputs": [],
   "source": [
    "### YOUR CODE GOES BELOW\n",
    "\n",
    "\n",
    "### END CODE"
   ]
  },
  {
   "cell_type": "markdown",
   "metadata": {},
   "source": [
    "## When completed, Save, download the notebook and upload into Canvas"
   ]
  },
  {
   "cell_type": "code",
   "execution_count": null,
   "metadata": {},
   "outputs": [],
   "source": []
  }
 ],
 "metadata": {
  "kernelspec": {
   "display_name": "Python 3",
   "language": "python",
   "name": "python3"
  },
  "language_info": {
   "codemirror_mode": {
    "name": "ipython",
    "version": 3
   },
   "file_extension": ".py",
   "mimetype": "text/x-python",
   "name": "python",
   "nbconvert_exporter": "python",
   "pygments_lexer": "ipython3",
   "version": "3.8.5"
  }
 },
 "nbformat": 4,
 "nbformat_minor": 2
}
