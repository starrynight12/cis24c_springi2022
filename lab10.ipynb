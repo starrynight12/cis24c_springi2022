{
 "cells": [
  {
   "cell_type": "markdown",
   "metadata": {},
   "source": [
    "# CIS024C - Spring Intercession 2022\n",
    "\n",
    "## Lab 10\n",
    "\n",
    "*Lab 10 tests the below content*\n",
    "\n",
    "Python Classes\n",
    "\n",
    "- Basic Ideas\n",
    "- Operator overloading\n",
    "\n",
    "Feel free to search the web for how you can solve these exercises.\n",
    "\n",
    "We will review them during class.\n",
    "\n",
    "**Students will be given partial credit for attemping to solve the exercises. You will be given the solutions during class and are required to use the solution to update your lab with the correct solutions**\n",
    "\n",
    "You will need to download this notebook and use this as a starting point for your homework. You will just need to fill in the content of each code-block (cell) and execute. Once you have completed all the exercises, you will need to save this notebook and upload it into Canvas.\n",
    "\n",
    "Note also the exercises build on top of one another so you might be able to do the next exercise if you have not completed the previous exercise.\n",
    "\n",
    "Post any questions you have on our Slack discussions channel"
   ]
  },
  {
   "cell_type": "markdown",
   "metadata": {},
   "source": [
    "#### Exercise 1  (20 points)\n",
    "\n",
    "Create a Python class **Calculator** with four member functions - add, subtract, multiply and divide\n",
    "\n",
    "__init__ method accepts two numbers\n",
    "\n",
    "__str__ method displays the numbers when the object is displayed using the print method\n",
    "\n",
    "Example: print(calcObject)\n",
    "Number 1: 10, Number 2: 20\n",
    "\n",
    "\n",
    "**Output**\n",
    "\n",
    "```\n",
    "\n",
    "Enter the first number: 10\n",
    "Enter the second number: 20\n",
    "\n",
    "Number 1: 10, Number 2: 20\n",
    "\n",
    "Sum: 30\n",
    "Difference: -10\n",
    "Product: 300\n",
    "Quotient: 0.5\n",
    "```\n"
   ]
  },
  {
   "cell_type": "code",
   "execution_count": 1,
   "metadata": {},
   "outputs": [
    {
     "name": "stdout",
     "output_type": "stream",
     "text": [
      "Enter the first number: 10\n",
      "Enter the second number: 20\n",
      "\n",
      "Number 1: 10.0, Number 2: 20.0\n",
      "\n",
      "Sum: 30.000000\n",
      "Difference: -10.000000\n",
      "Product: 200.000000\n",
      "Quotient: 0.500000\n"
     ]
    }
   ],
   "source": [
    "### YOUR CODE GOES BELOW\n",
    "\n",
    "\n",
    "### END CODE"
   ]
  },
  {
   "cell_type": "code",
   "execution_count": 1,
   "metadata": {},
   "outputs": [],
   "source": [
    "### YOUR CODE GOES BELOW\n",
    "\n",
    "\n",
    "### END CODE"
   ]
  },
  {
   "cell_type": "markdown",
   "metadata": {},
   "source": [
    "#### Exercise 2 (20 points)\n",
    "Write a Python class called Employee with the following properties. Initialize the attributes during class creation. Instantiate the class and invoke its methods\n",
    "\n",
    "**Attributes**\n",
    "Name\n",
    "Age \n",
    "Salary\n",
    "\n",
    "**Methods**\n",
    "getName\n",
    "getAge\n",
    "getSalary.\n"
   ]
  },
  {
   "cell_type": "code",
   "execution_count": 2,
   "metadata": {},
   "outputs": [],
   "source": [
    "### YOUR CODE GOES BELOW\n",
    "\n",
    "### END CODE"
   ]
  },
  {
   "cell_type": "code",
   "execution_count": null,
   "metadata": {},
   "outputs": [],
   "source": [
    "### YOUR CODE GOES BELOW\n",
    "\n",
    "\n",
    "### END CODE"
   ]
  },
  {
   "cell_type": "markdown",
   "metadata": {},
   "source": [
    "#### Exercise 3 (20 points)\n",
    "\n",
    "Add support to the previous class to allow for setting attributes of the members variables in the class using member functions. Make sure the actual member variables are private and cannot be accessed outside the class. \n",
    "\n",
    "Instantiate the class and invoke its methods\n",
    "\n",
    "You will add the below member functions in the class, and allow for updating of class attributes using these member functions\n",
    "\n",
    "setName\n",
    "setAge\n"
   ]
  },
  {
   "cell_type": "code",
   "execution_count": 3,
   "metadata": {},
   "outputs": [],
   "source": [
    "### YOUR CODE GOES BELOW\n",
    "\n",
    "\n",
    "### END CODE"
   ]
  },
  {
   "cell_type": "markdown",
   "metadata": {},
   "source": [
    "#### Exercise 4 (20 points)\n",
    "\n",
    "For the Employee class, write a method that will print class details with the print method. Instantiate the class and invoke its methods.\n",
    "\n",
    "**Example**\n",
    "\n",
    "When print(employeeObject) is invoked the output should be\n",
    "\n",
    "```\n",
    "Name: Bob Wasserman\n",
    "Age: 47\n",
    "Salary: 110000\n",
    "```\n"
   ]
  },
  {
   "cell_type": "code",
   "execution_count": 4,
   "metadata": {},
   "outputs": [],
   "source": [
    "### YOUR CODE GOES BELOW\n",
    "\n",
    "### END CODE"
   ]
  },
  {
   "cell_type": "markdown",
   "metadata": {},
   "source": [
    "#### Exercise 5 (20 points)\n",
    "\n",
    "Create a Python class called Teacher derived from the Employee class. Add the below properties and methods to the Teacher class. \n",
    "\n",
    "*Attributes*\n",
    "\n",
    "Course Name\n",
    "\n",
    "*Methods*\n",
    "\n",
    "getCourseName\n",
    "\n",
    "Initialize the course name in the constructor. Invoke the class method to display the course name\n"
   ]
  },
  {
   "cell_type": "markdown",
   "metadata": {},
   "source": [
    "#### Exercise 5"
   ]
  },
  {
   "cell_type": "code",
   "execution_count": 5,
   "metadata": {},
   "outputs": [],
   "source": [
    "### YOUR CODE GOES BELOW\n",
    "\n",
    "\n",
    "### END CODE"
   ]
  },
  {
   "cell_type": "markdown",
   "metadata": {},
   "source": [
    "## When completed, Save, download the notebook and upload into Canvas"
   ]
  },
  {
   "cell_type": "code",
   "execution_count": null,
   "metadata": {},
   "outputs": [],
   "source": []
  }
 ],
 "metadata": {
  "kernelspec": {
   "display_name": "Python 3",
   "language": "python",
   "name": "python3"
  },
  "language_info": {
   "codemirror_mode": {
    "name": "ipython",
    "version": 3
   },
   "file_extension": ".py",
   "mimetype": "text/x-python",
   "name": "python",
   "nbconvert_exporter": "python",
   "pygments_lexer": "ipython3",
   "version": "3.8.5"
  }
 },
 "nbformat": 4,
 "nbformat_minor": 2
}
