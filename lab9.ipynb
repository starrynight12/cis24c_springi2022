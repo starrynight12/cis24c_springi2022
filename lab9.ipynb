{
 "cells": [
  {
   "cell_type": "markdown",
   "metadata": {},
   "source": [
    "# CIS024C - Spring Intercession 2022\n",
    "\n",
    "## Lab 9\n",
    "\n",
    "*Lab 9 tests the below content*\n",
    "\n",
    "Working with the command line\n",
    "\n",
    "Feel free to search the web for how you can solve these exercises.\n",
    "\n",
    "We will review them during class.\n",
    "\n",
    "**Students will be given partial credit for attemping to solve the exercises. You will be given the solutions during class and are required to use the solution to update your lab with the correct solutions**\n",
    "\n",
    "You will need to download this notebook and use this as a starting point for your homework. You will just need to fill in the content of each code-block (cell) and execute. Once you have completed all the exercises, you will need to save this notebook and upload it into Canvas.\n",
    "\n",
    "Note also the exercises build on top of one another so you might be able to do the next exercise if you have not completed the previous exercise.\n",
    "\n",
    "Post any questions you have on our Slack discussions channel"
   ]
  },
  {
   "cell_type": "markdown",
   "metadata": {},
   "source": [
    "#### Exercise 1  (50 points)\n",
    "\n",
    "Write a Python program main.py that accepts the salary and the tax rate for a user from the commmand line. Compute and display the net salary.\n",
    "\n",
    "Net salary = Salary - (tax-rate * Salary)\n",
    "\n",
    "Execute this using the command line. Recall that you can create and execute a command line program from within Jupyter\n",
    "\n",
    "Example:\n",
    "\n",
    "```\n",
    "python main.py 100000 0.2\n",
    "\n",
    "Output:\n",
    "Net Salary: 80000\n",
    "```"
   ]
  },
  {
   "cell_type": "code",
   "execution_count": null,
   "metadata": {},
   "outputs": [],
   "source": [
    "### YOUR CODE GOES BELOW\n",
    "\n",
    "\n",
    "### END CODE"
   ]
  },
  {
   "cell_type": "markdown",
   "metadata": {},
   "source": [
    "#### Exercise 2 (50 points)\n",
    "\n",
    "Write a python program to open the text file https://www.gutenberg.org/files/11/11.txt and do the following\n",
    "\n",
    "Create a Python library helper.py with the following methods\n",
    "\n",
    "getCountOfSimilarWords - for the search word\n",
    "getTotalLines - for the search word\n",
    "\n",
    "Create a program main.py that accepts the search word as an input argument\n",
    "\n",
    "The program should invoke the library helper.py to display the count of similar words for the input word and  total words, total characters and total lines in aliceText\n",
    "\n",
    "Example:\n",
    "\n",
    "```\n",
    "python main.py alice\n",
    "\n",
    "Output:\n",
    "\n",
    "Total Words:\n",
    "Total lines:\n",
    "```\n"
   ]
  },
  {
   "cell_type": "code",
   "execution_count": null,
   "metadata": {},
   "outputs": [],
   "source": [
    "### YOUR CODE GOES BELOW\n",
    "\n",
    "\n",
    "### END CODE"
   ]
  },
  {
   "cell_type": "markdown",
   "metadata": {},
   "source": [
    "## When completed, Save, download the notebook and upload into Canvas"
   ]
  },
  {
   "cell_type": "code",
   "execution_count": null,
   "metadata": {},
   "outputs": [],
   "source": []
  }
 ],
 "metadata": {
  "kernelspec": {
   "display_name": "Python 3",
   "language": "python",
   "name": "python3"
  },
  "language_info": {
   "codemirror_mode": {
    "name": "ipython",
    "version": 3
   },
   "file_extension": ".py",
   "mimetype": "text/x-python",
   "name": "python",
   "nbconvert_exporter": "python",
   "pygments_lexer": "ipython3",
   "version": "3.8.5"
  }
 },
 "nbformat": 4,
 "nbformat_minor": 2
}
