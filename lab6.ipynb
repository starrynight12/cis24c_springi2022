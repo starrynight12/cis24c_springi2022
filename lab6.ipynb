{
 "cells": [
  {
   "cell_type": "markdown",
   "metadata": {},
   "source": [
    "# CIS024C - Spring Intercession 2022\n",
    "\n",
    "## Lab 5\n",
    "\n",
    "**Lab 6 consists the below topics**\n",
    "\n",
    "**Functions and Arguments\n",
    "\n",
    "**Variable scope wrt functions\n",
    "\n",
    "**Recursion\n",
    "\n",
    "Feel free to search the web for how you can solve these exercises.\n",
    "\n",
    "We will review them during class.\n",
    "\n",
    "**Students will be given partial credit for attemping to solve the exercises. You will be given the solutions during class and are required to use the solution to update your lab with the correct solutions**\n",
    "\n",
    "You will need to download this notebook and use this as a starting point for your homework. You will just need to fill in the content of each code-block (cell) and execute. Once you have completed all the exercises, you will need to save this notebook and upload it into Canvas.\n",
    "\n",
    "Note also the exercises build on top of one another so you might be able to do the next exercise if you have not completed the previous exercise.\n",
    "\n",
    "Post any questions you have on our Slack discussions channel"
   ]
  },
  {
   "cell_type": "markdown",
   "metadata": {},
   "source": [
    "#### Exercise 1 (25 points)\n",
    "\n",
    "Write a function to sort numbers in a list.\n",
    "\n",
    "Do not use any existing sort functions. \n",
    "\n",
    "Here is a suitable algorithm for you to consider to perform the sort\n",
    "```\n",
    "begin BubbleSort(list)\n",
    "\n",
    "   for all elements of list\n",
    "      if list[i] > list[i+1]\n",
    "         swap(list[i], list[i+1])\n",
    "      end if\n",
    "   end for\n",
    "   \n",
    "   return list\n",
    "   \n",
    "end BubbleSort\n",
    "```"
   ]
  },
  {
   "cell_type": "code",
   "execution_count": 1,
   "metadata": {},
   "outputs": [],
   "source": [
    "### YOUR CODE GOES BELOW\n",
    "\n",
    "\n",
    "### END CODE"
   ]
  },
  {
   "cell_type": "markdown",
   "metadata": {},
   "source": [
    "#### Exercise 2 (25 points)\n",
    "\n",
    "Write a recursive Python function to compute the factorial of a number.\n",
    "\n",
    "A recursive function is a function that calls itself. If you recall, last class we saw a program to compute the factorial of a number. \n",
    "\n",
    "Follow the below algorithm to see if you can write a recursive program to compute the factorial of a number\n",
    "\n",
    "```\n",
    "Function factorial(n)\n",
    "    Begin\n",
    "      if n == 0 or 1 then\n",
    "        Return 1;\n",
    "      else\n",
    "        Return n* factorial(n-1);\n",
    "      endif\n",
    "    End\n",
    "```"
   ]
  },
  {
   "cell_type": "code",
   "execution_count": 2,
   "metadata": {},
   "outputs": [],
   "source": [
    "### YOUR CODE GOES BELOW\n",
    "\n",
    "\n",
    "### END CODE"
   ]
  },
  {
   "cell_type": "markdown",
   "metadata": {},
   "source": [
    "#### Exercise 3 (25 points)\n",
    "\n",
    "Write a Python function that takes a list and returns a new list with unique elements of the first list\n",
    "\n",
    "```\n",
    "Sample List : [1,2,3,3,3,3,4,5]\n",
    "Unique List : [1, 2, 3, 4, 5]\n",
    "```"
   ]
  },
  {
   "cell_type": "code",
   "execution_count": 3,
   "metadata": {},
   "outputs": [],
   "source": [
    "### YOUR CODE GOES BELOW\n",
    "\n",
    "### END CODE"
   ]
  },
  {
   "cell_type": "markdown",
   "metadata": {},
   "source": [
    "#### Exercise 4 (25 points)\n",
    "\n",
    "\n",
    "Write a Python function that accepts a string and calculate the number of upper case letters and lower case letters. \n",
    "```\n",
    "Sample String : 'The quick Brow Fox'\n",
    "\n",
    "Expected Output :\n",
    "No. of Upper case characters : 3\n",
    "No. of Lower case Characters : 12\n",
    "```"
   ]
  },
  {
   "cell_type": "code",
   "execution_count": 4,
   "metadata": {},
   "outputs": [],
   "source": [
    "### YOUR CODE GOES BELOW\n",
    "\n",
    "\n",
    "### END CODE"
   ]
  },
  {
   "cell_type": "markdown",
   "metadata": {},
   "source": [
    "## When completed, Save, download the notebook and upload into Canvas"
   ]
  },
  {
   "cell_type": "code",
   "execution_count": null,
   "metadata": {},
   "outputs": [],
   "source": []
  }
 ],
 "metadata": {
  "kernelspec": {
   "display_name": "Python 3",
   "language": "python",
   "name": "python3"
  },
  "language_info": {
   "codemirror_mode": {
    "name": "ipython",
    "version": 3
   },
   "file_extension": ".py",
   "mimetype": "text/x-python",
   "name": "python",
   "nbconvert_exporter": "python",
   "pygments_lexer": "ipython3",
   "version": "3.8.5"
  }
 },
 "nbformat": 4,
 "nbformat_minor": 2
}
