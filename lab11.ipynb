{
 "cells": [
  {
   "cell_type": "markdown",
   "metadata": {},
   "source": [
    "# CIS024C - Spring Intercession 2022\n",
    "\n",
    "## Lab 11\n",
    "\n",
    "*Lab 11 tests the below content*\n",
    "\n",
    "**Data Visualization Using Python**\n",
    "\n",
    "Feel free to search the web for how you can solve these exercises.\n",
    "\n",
    "We will review them during class.\n",
    "\n",
    "**Students will be given partial credit for attemping to solve the exercises. You will be given the solutions during class and are required to use the solution to update your lab with the correct solutions**\n",
    "\n",
    "You will need to download this notebook and use this as a starting point for your homework. You will just need to fill in the content of each code-block (cell) and execute. Once you have completed all the exercises, you will need to save this notebook and upload it into Canvas.\n",
    "\n",
    "Note also the exercises build on top of one another so you might be able to do the next exercise if you have not completed the previous exercise.\n",
    "\n",
    "Post any questions you have on our Slack discussions channel"
   ]
  },
  {
   "cell_type": "markdown",
   "metadata": {},
   "source": [
    "#### For your exercises you will be using the below stock market dataset\n",
    "\n",
    "https://raw.githubusercontent.com/dorairajsanjay/cis24c_fall2021_shared/master/all_stocks_1yr.csv"
   ]
  },
  {
   "cell_type": "markdown",
   "metadata": {},
   "source": [
    "#### Exercise 1  (20 points)\n",
    "\n",
    "Download the all_stocks_1yr.csv file, open the file in a Python program,  and move the data into the Python lists. \n",
    "\n",
    "Date,Open,High,Low,Close,Volume,Name\n",
    "\n",
    "Print the top 5 rows for each list"
   ]
  },
  {
   "cell_type": "code",
   "execution_count": 1,
   "metadata": {},
   "outputs": [],
   "source": [
    "### YOUR CODE GOES BELOW\n",
    "\n",
    "### END CODE"
   ]
  },
  {
   "cell_type": "markdown",
   "metadata": {},
   "source": [
    "#### Exercise 2 (20 points)\n",
    "\n",
    "Create 5 line graphs that show the performance over time for the below stocks. The last column Name has the ticker symbol.\n",
    "\n",
    "Apple - AAPL \n",
    "Amazon - AMZN\n",
    "Google - GOOGL\n",
    "Microsoft -MSFT\n",
    "Facebook - FB\n",
    "\n",
    "Try to combine all the line graphs into the same plot. To do this you will need to plot first and then use the show command after all the plot commands are executed\n",
    "\n",
    "Do you notice any trends? If yes, write a paragraph capturing the key trends.\n",
    "\n",
    "Example:\n",
    "\n",
    "```\n",
    "plt.plot(x,y,label=\"something\")\n",
    "plt.plot(a,b,label=\"something\")\n",
    "plt.legend()\n",
    "plt.show()\n",
    "```\n",
    "\n",
    "Hint:\n",
    "\n"
   ]
  },
  {
   "cell_type": "code",
   "execution_count": 2,
   "metadata": {},
   "outputs": [],
   "source": [
    "### YOUR CODE GOES BELOW\n",
    "\n",
    "### END CODE"
   ]
  },
  {
   "cell_type": "markdown",
   "metadata": {},
   "source": [
    "##### Use this section to document your insight\n",
    "\n",
    "-- "
   ]
  },
  {
   "cell_type": "markdown",
   "metadata": {},
   "source": [
    "#### Exercise 3 (20 points)\n",
    "\n",
    "Create five Histogram with the Open amounts for each of the stocks below\n",
    "\n",
    "Apple - AAPL Amazon - AMZN Google - GOOGL Microsoft -MSFT Facebook - FB\n",
    "\n",
    "Do you notice any trends? If yes, write a paragraph capturing the key trends."
   ]
  },
  {
   "cell_type": "code",
   "execution_count": 3,
   "metadata": {},
   "outputs": [],
   "source": [
    "### YOUR CODE GOES BELOW\n",
    "\n",
    "\n",
    "### END CODE"
   ]
  },
  {
   "cell_type": "code",
   "execution_count": null,
   "metadata": {},
   "outputs": [],
   "source": []
  },
  {
   "cell_type": "markdown",
   "metadata": {},
   "source": [
    "##### Use this section to document your insight\n",
    "\n",
    "-- "
   ]
  },
  {
   "cell_type": "markdown",
   "metadata": {},
   "source": [
    "#### Exercise 4 (20 points)\n",
    "\n",
    "Create a bar graph that shows the highest Open for each of the below stocks.\n",
    "\n",
    "Apple - AAPL Amazon - AMZN Google - GOOGL Microsoft -MSFT Facebook - FB"
   ]
  },
  {
   "cell_type": "code",
   "execution_count": 4,
   "metadata": {},
   "outputs": [],
   "source": [
    "### YOUR CODE GOES BELOW\n",
    "\n",
    "\n",
    "### END CODE"
   ]
  },
  {
   "cell_type": "markdown",
   "metadata": {},
   "source": [
    "#### Exercise 5 (20 points)\n",
    "\n",
    "Using the stock market data, create your own visualization using some of the graphs that we have learnt, and document your insight."
   ]
  },
  {
   "cell_type": "code",
   "execution_count": 5,
   "metadata": {},
   "outputs": [],
   "source": [
    "### YOUR CODE GOES BELOW\n",
    "\n",
    "\n",
    "### END CODE"
   ]
  },
  {
   "cell_type": "markdown",
   "metadata": {},
   "source": [
    "##### Use this section to document your insight\n",
    "\n",
    "-- "
   ]
  },
  {
   "cell_type": "markdown",
   "metadata": {},
   "source": [
    "#### Exercise 6 (Optional)\n",
    "\n",
    "Use the Python pandas package to repeat the above exercises."
   ]
  },
  {
   "cell_type": "markdown",
   "metadata": {},
   "source": [
    "## When completed, Save, download the notebook and upload into Canvas"
   ]
  },
  {
   "cell_type": "code",
   "execution_count": null,
   "metadata": {},
   "outputs": [],
   "source": []
  }
 ],
 "metadata": {
  "kernelspec": {
   "display_name": "Python 3",
   "language": "python",
   "name": "python3"
  },
  "language_info": {
   "codemirror_mode": {
    "name": "ipython",
    "version": 3
   },
   "file_extension": ".py",
   "mimetype": "text/x-python",
   "name": "python",
   "nbconvert_exporter": "python",
   "pygments_lexer": "ipython3",
   "version": "3.8.5"
  }
 },
 "nbformat": 4,
 "nbformat_minor": 2
}
