{
 "cells": [
  {
   "cell_type": "markdown",
   "metadata": {},
   "source": [
    "# CIS024C - Spring Intercession 2022\n",
    "\n",
    "## Lab 4\n",
    "\n",
    "**Lab 4 consists the below topics**\n",
    "\n",
    "* Structured Data\n",
    "\n",
    "- Lists\n",
    "\n",
    "- Tuples\n",
    "\n",
    "- Dictionary\n",
    "\n",
    "Feel free to search the web for how you can solve these exercises.\n",
    "\n",
    "We will review them during class.\n",
    "\n",
    "**Students will be given partial credit for attemping to solve the exercises. You will be given the solutions during class and are required to use the solution to update your lab with the correct solutions**\n",
    "\n",
    "You will need to download this notebook and use this as a starting point for your homework. You will just need to fill in the content of each code-block (cell) and execute. Once you have completed all the exercises, you will need to save this notebook and upload it into Canvas.\n",
    "\n",
    "Note also the exercises build on top of one another so you might be able to do the next exercise if you have not completed the previous exercise.\n",
    "\n",
    "Post any questions you have on our Slack discussions channel"
   ]
  },
  {
   "cell_type": "markdown",
   "metadata": {},
   "source": [
    "#### Exercise 1 (20 points)\n",
    "\n",
    "Write a Python script to accept a list of integers from the user, sort a list of integers in descending order, and display the result"
   ]
  },
  {
   "cell_type": "code",
   "execution_count": 1,
   "metadata": {},
   "outputs": [],
   "source": [
    "### YOUR CODE GOES BELOW\n",
    "\n",
    "\n",
    "### END CODE"
   ]
  },
  {
   "cell_type": "markdown",
   "metadata": {},
   "source": [
    "#### Exercise 2 (20 points)\n",
    "\n",
    "1. Prompt the user to enter five key:value pairs. This could be employee_id and employee_name. For example:\n",
    "\n",
    "{1:'Bob',23,'Joe',3:'Sam'}\n",
    "\n",
    "2. Display the employees in ascending order of their names."
   ]
  },
  {
   "cell_type": "code",
   "execution_count": 2,
   "metadata": {},
   "outputs": [],
   "source": [
    "### YOUR CODE GOES BELOW\n",
    "\n",
    "\n",
    "### END CODE"
   ]
  },
  {
   "cell_type": "markdown",
   "metadata": {},
   "source": [
    "#### Exercise 3 (20 points)\n",
    "\n",
    "1. Accept two separate lists of integers from the user.\n",
    " \n",
    "2. Write a Python script to concatenate two lists to create a new one\n",
    " \n",
    "3. Display the resulting list\n"
   ]
  },
  {
   "cell_type": "code",
   "execution_count": 3,
   "metadata": {},
   "outputs": [],
   "source": [
    "### YOUR CODE GOES BELOW\n",
    "\n",
    "\n",
    "### END CODE"
   ]
  },
  {
   "cell_type": "markdown",
   "metadata": {},
   "source": [
    "#### Exercise 4 (20 points)\n",
    "\n",
    "1. Accept two separate dictionaries of integers from the user. It could be the same employee id: employee_name dictionary from Exercise 2.\n",
    " \n",
    "2. Write a Python script to concatenate the two dictionaries to create a new one\n",
    " \n",
    "3. Display the resulting dictionary\n"
   ]
  },
  {
   "cell_type": "code",
   "execution_count": 4,
   "metadata": {},
   "outputs": [],
   "source": [
    "### YOUR CODE GOES BELOW\n",
    "\n",
    "\n",
    "### END CODE"
   ]
  },
  {
   "cell_type": "markdown",
   "metadata": {},
   "source": [
    "#### Exercise 5 (20 points)\n",
    "\n",
    "\n",
    "1. Prompt the user to enter five key:value pairs. This could be employee_id and employee_name. For example:\n",
    "\n",
    "{1:'Bob',23,'Joe',3:'Sam'}\n",
    "\n",
    "2. Display the employees in ascending order of their names.\n",
    "\n",
    "(note above steps are from problem 2)\n",
    "\n",
    "3. Start a While loop and ask the user to enter a new key and employee name, to add to the dictionary. From within the While loop, check if the key already exists and if it exists, display a message indicating the Key already exists; otherwise, proceed to add the new id and key to the dictionary. If the user enters an id of -1 break from the While loop\n"
   ]
  },
  {
   "cell_type": "code",
   "execution_count": 5,
   "metadata": {},
   "outputs": [],
   "source": [
    "### YOUR CODE GOES BELOW\n",
    "\n",
    "\n",
    "### END CODE"
   ]
  },
  {
   "cell_type": "markdown",
   "metadata": {},
   "source": [
    "## When completed, Save, download the notebook and upload into Canvas"
   ]
  },
  {
   "cell_type": "code",
   "execution_count": null,
   "metadata": {},
   "outputs": [],
   "source": []
  }
 ],
 "metadata": {
  "kernelspec": {
   "display_name": "Python 3",
   "language": "python",
   "name": "python3"
  },
  "language_info": {
   "codemirror_mode": {
    "name": "ipython",
    "version": 3
   },
   "file_extension": ".py",
   "mimetype": "text/x-python",
   "name": "python",
   "nbconvert_exporter": "python",
   "pygments_lexer": "ipython3",
   "version": "3.8.5"
  }
 },
 "nbformat": 4,
 "nbformat_minor": 2
}
