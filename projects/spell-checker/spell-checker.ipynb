{
 "cells": [
  {
   "cell_type": "markdown",
   "metadata": {},
   "source": [
    "# CIS024C - Spring Intercession 2022 - Spell Checker Project"
   ]
  },
  {
   "cell_type": "markdown",
   "metadata": {},
   "source": [
    "## Project Description (100 points)\n",
    "\n",
    "This project involves creating a spell-checker problem that accepts a word from the user, look up that word in an available corpus and perform spell-correction on the word if the word is not present in the word corpus.\n",
    "\n",
    "the word corpus has been loaded and is available in a string named word corpus.\n",
    "\n",
    "You will need to do the following\n",
    "\n",
    "* Download both this program file and the associated google-10000-english.txt file to your computer.\n",
    "\n",
    "* Write a program using the WHILE loop that continuously asks the user to enter a word. If the user enters QUIT, then quit from the while loop and terminate the program. (20 points)\n",
    "\n",
    "* Once the user has entered the word, you will\n",
    "** Compare the word with the word corpus, if there is a match, then you will let the user know that the word is valid. Note that the comparison must be case insensitive. (20 points)\n",
    "\n",
    "** If there is no match, then you will need to look up the corpus for the word that best matches the word that the user entered and display that word to the user. (40 points)\n",
    "\n",
    "*(OPTIONAL EXERCISE)\n",
    "\n",
    "* Allow the user to enter a paragraph and perform an automated spell correction of the paragraph. \n",
    "For example, if the user enters \"Jack and Jill wen up the hills\", your program would return something like \"Jack and Jill went up the hill\"\n",
    "\n",
    "Other Points\n",
    "\n",
    "* 10 points will be awarded for the overall quality of the user interaction. \n",
    "* 10 points will be awarded for the proper use of Python including making sure that he code is optimal.\n",
    "\n",
    "**Note that you will need to write the code to find the best match. You will not be awarded any points if you use an existing library that does the same check **\n",
    "\n",
    "#### Hints\n",
    "\n",
    "Typically, this is implemented by looking at each word in the list and determining the number of adds, updates, deletes that are needed in order to get from the candidate word to the input word. Each operation has a score associated with it, for example\n",
    "\n",
    "Update - 2 point\n",
    "Add - 1 point\n",
    "Delete - 2 point\n",
    "\n",
    "For example, \n",
    "\n",
    "##### input word: wen\n",
    "\n",
    "##### candidate word: win\n",
    "* To get from wen to win requires 1 update\n",
    "* Total score for win is 2 points\n",
    "\n",
    "##### candidate word: went\n",
    "* To get from wen to went requires 1 add\n",
    "* Total score for went is 1 point\n",
    "\n",
    "#####  candidate word: hello\n",
    "* To get from hello to wen requires - 3 updates and 2 deletes\n",
    "* Total score for hello is 10 points\n",
    "\n",
    "At the end, after looking at all words in the list, you would pick the word with the lowest score as the match. In case you arrive a good match sooner, for performance reasons, you might want to stop and display the result.\n"
   ]
  },
  {
   "cell_type": "markdown",
   "metadata": {},
   "source": [
    "## Imports"
   ]
  },
  {
   "cell_type": "code",
   "execution_count": 2,
   "metadata": {},
   "outputs": [],
   "source": [
    "import string "
   ]
  },
  {
   "cell_type": "markdown",
   "metadata": {
    "collapsed": true
   },
   "source": [
    "## Run this cell to load the word corpus. The variable wordList has the list of all words in your corpus\n"
   ]
  },
  {
   "cell_type": "markdown",
   "metadata": {},
   "source": [
    "## Spellchecker"
   ]
  },
  {
   "cell_type": "code",
   "execution_count": 3,
   "metadata": {},
   "outputs": [],
   "source": [
    "def similarity(inputWord,wordCorpus):\n",
    "    \n",
    "    # get list of words that share the relatively same size +/- 1 letter\n",
    "    \n",
    "    if len(inputWord) == 0:\n",
    "        print(\"Please provide a valid word\")\n",
    "        return \"INVALID_ENTRY\"\n",
    "    \n",
    "    lowerWordLen = len(inputWord) - 1\n",
    "    upperWordLen = len(inputWord) + 1\n",
    "    \n",
    "    # get the list of candidate words\n",
    "    candidateWords = []\n",
    "    \n",
    "    for entry in wordCorpus:\n",
    "        \n",
    "        # determine the set of words within one character distance of the input word\n",
    "        # and place it in the list candidateWords\n",
    "        if len(entry) >= lowerWordLen and len(entry) <= upperWordLen:\n",
    "            candidateWords.append(entry)\n",
    "            \n",
    "    # perform similarity comparison\n",
    "    # You will need to look for words in the candidateWords list that best match\n",
    "    # the input word. For example, if the user input was \"wen\", a possible match is \"went\" \n",
    "    # or if the input word is \"rabbi\", a possible match is \"rabbit\"\n",
    "    # All candidate words are from the text \"Alice in Wonderland\"\n",
    "    \n",
    "    bestMatchWord = None\n",
    "    \n",
    "    ## UPTO THIS PART, A SET OF CANDIDATE WORDS HAS BEEN MADE AVAILABLE TO YOU IN THE LIST\n",
    "    ## candidateWords. You will just need to use this list to determine which words are closest\n",
    "    ## to the word that the user entered\n",
    "    \n",
    "    ########################################\n",
    "    ### Write your code here\n",
    "    ########################################\n",
    "        \n",
    "    # display the best match\n",
    "    print(\"Best Match Is:\",bestMatchWord)\n",
    "    \n",
    "    return bestMatchWord"
   ]
  },
  {
   "cell_type": "code",
   "execution_count": 4,
   "metadata": {},
   "outputs": [
    {
     "name": "stdout",
     "output_type": "stream",
     "text": [
      "Best Match Is: None\n",
      "Time taken:0.6308810710906982 seconds\n"
     ]
    }
   ],
   "source": [
    "import time\n",
    "\n",
    "startTime = time.time()\n",
    "\n",
    "'''\n",
    "#### START: Load the word file and parse content and move it to the wordCorpus list ####\n",
    "'''\n",
    "\n",
    "# take all words from alice and store them in memory\n",
    "wordCorpusFile = open('google-10000-english.txt',encoding='utf-8')\n",
    "\n",
    "wordCorpus = []\n",
    "\n",
    "for line in wordCorpusFile:\n",
    "    \n",
    "    # remove newlines\n",
    "    line = line.strip().lower()\n",
    "    \n",
    "    # get words\n",
    "    words = line.split(\" \")\n",
    "    \n",
    "    for word in words:\n",
    "        if word.isalnum():\n",
    "            if word not in wordCorpus:\n",
    "                wordCorpus.append(word)\n",
    "                \n",
    "###### END - LOAD WORD CORPUS into WordCorpus variable #####\n",
    "\n",
    "### BEGIN - Call Similarity function ####\n",
    "                \n",
    "similarity(\"wen\",wordCorpus)\n",
    "\n",
    "elapsedTime = time.time() - startTime\n",
    "\n",
    "print(\"Time taken:%s seconds\" % elapsedTime)"
   ]
  },
  {
   "cell_type": "code",
   "execution_count": null,
   "metadata": {},
   "outputs": [],
   "source": []
  }
 ],
 "metadata": {
  "kernelspec": {
   "display_name": "Python 3",
   "language": "python",
   "name": "python3"
  },
  "language_info": {
   "codemirror_mode": {
    "name": "ipython",
    "version": 3
   },
   "file_extension": ".py",
   "mimetype": "text/x-python",
   "name": "python",
   "nbconvert_exporter": "python",
   "pygments_lexer": "ipython3",
   "version": "3.8.5"
  }
 },
 "nbformat": 4,
 "nbformat_minor": 1
}
