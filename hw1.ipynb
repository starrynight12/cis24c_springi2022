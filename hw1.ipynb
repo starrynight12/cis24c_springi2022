{
 "cells": [
  {
   "cell_type": "markdown",
   "metadata": {},
   "source": [
    "# CIS024C - Spring Intercession 2022\n",
    "\n",
    "## Homework 1\n",
    "\n",
    "Homework 1 covers some of the basics including setup and installation of Github and Anaconda/Jupyter for python development\n",
    "\n",
    "You will need to download this notebook and use this as a starting point for your homework. You will just need to fill in the content of each code-block (cell) and execute. Once you have completed all the exercises, you will need to save this notebook and upload it into Canvas.\n",
    "\n",
    "Note also the exercises build on top of one another so you might be able to do the next exercise if you have not completed the previous exercise.\n",
    "\n",
    "Post any questions you have on our Slack discussions channel"
   ]
  },
  {
   "cell_type": "markdown",
   "metadata": {},
   "source": [
    "### 1. Install Anaconda/Jupyter Notebook on your computer\n",
    "\n",
    "#### Steps\n",
    "1. Go to https://www.anaconda.com/download and download the appropriate anaconda distribution for your Windows or Mac computer. Make sure to select the version of Anaconda corresponding to Python 3.x\n",
    "2. Install the Anaconda distribution on your computer. \n",
    "3. Open the newly installed Anaconda application.\n",
    "4. Launch Jupyter Notebook from the set of Anaconda applications.\n",
    "5. You should see a page open in your browser. This is where you will enter your Python code.\n"
   ]
  },
  {
   "cell_type": "markdown",
   "metadata": {},
   "source": [
    "### 2 Coding Exercises\n",
    "\n",
    "In this section of the homework, you will be doing some simple coding exercise to familiarize yourself with your Python development environment - Jupyter. A development environment is also referred to as an IDE or Integrated Development Environment. \n",
    "\n",
    "Below are some useful commands to know when using Jupyter\n",
    "\n",
    "1. You can add a new cell by clicking on the \"+\" icon on top.\n",
    "2. You can delete a cell by selecting that cell and clicking on the \"scissors\" icon on top.\n",
    "3. You can execute a cell by either pressing shift+enter or selecting the \"play\" button on top.\n",
    "4. You can create a new file in Jupyter via the File menu->New Notebook option. Make sure to select Python 2 when creating your notebook.\n",
    "5. Also, for your code blocks make sure that Code is selected instead of another option like Markdown.\n",
    "6. Use the Enter key to go to the next line in a cell to enter the next statement.\n",
    "7. You can clear results by clicking on the Cell menu item and selecting Current Output->Clear or All Output->Clear depending on whether you are trying to just clear the output for one cell or for all cells.\n",
    "8. In case your program has crashed for some reason (infinite loop, for example), you can restart your Python session by select Kernel in the menu and selecting Restart.\n"
   ]
  },
  {
   "cell_type": "markdown",
   "metadata": {},
   "source": [
    "#### Sample Exercise 1\n",
    "\n",
    "Create two variables x and y. Assign the value of 5 to x and 10 to y. Display the result for x and y"
   ]
  },
  {
   "cell_type": "code",
   "execution_count": 1,
   "metadata": {},
   "outputs": [
    {
     "name": "stdout",
     "output_type": "stream",
     "text": [
      "5 10\n"
     ]
    }
   ],
   "source": [
    "x = 5\n",
    "y = 10\n",
    "print(x,y)"
   ]
  },
  {
   "cell_type": "markdown",
   "metadata": {},
   "source": [
    "#### Sample Exercise 2\n",
    "\n",
    "Create two variables x and y. Assign an arbitrary value to them. Find the sum of x and y and assign to a new variable z. Display the result for z"
   ]
  },
  {
   "cell_type": "code",
   "execution_count": 2,
   "metadata": {},
   "outputs": [
    {
     "name": "stdout",
     "output_type": "stream",
     "text": [
      "30\n"
     ]
    }
   ],
   "source": [
    "x = 10\n",
    "y = 20\n",
    "z = x + y\n",
    "print(z)"
   ]
  },
  {
   "cell_type": "markdown",
   "metadata": {},
   "source": [
    "#### Exercise 2.1\n",
    "\n",
    "Create two variables a and b. Assign 5 to a and 6 to b. Display the result of a and b."
   ]
  },
  {
   "cell_type": "code",
   "execution_count": null,
   "metadata": {
    "collapsed": true
   },
   "outputs": [],
   "source": [
    "### YOUR CODE GOES BELOW\n",
    "\n",
    "\n",
    "### END CODE"
   ]
  },
  {
   "cell_type": "markdown",
   "metadata": {},
   "source": [
    "#### Exercise 2.2\n",
    "\n",
    "* Create a string variable called **greeting**. Assign the string \"Hello\" to this variable.\n",
    "* Create another string variable called **person**. Assign the string \"Oscar\" to this variable"
   ]
  },
  {
   "cell_type": "code",
   "execution_count": null,
   "metadata": {
    "collapsed": true
   },
   "outputs": [],
   "source": [
    "### YOUR CODE GOES BELOW\n",
    "\n",
    "\n",
    "### END CODE"
   ]
  },
  {
   "cell_type": "markdown",
   "metadata": {},
   "source": [
    "#### Exercise 2.3\n",
    "\n",
    "* Create a third variable called **personalGreeting**.\n",
    "* Assign the sum of the two previously created variables **greeting** and **person** to personalGreeting.\n",
    "* Display the result.\n",
    "* Can you clean up the result so it look pretty?"
   ]
  },
  {
   "cell_type": "code",
   "execution_count": null,
   "metadata": {
    "collapsed": true
   },
   "outputs": [],
   "source": [
    "### YOUR CODE GOES BELOW\n",
    "\n",
    "\n",
    "### END CODE"
   ]
  },
  {
   "cell_type": "markdown",
   "metadata": {},
   "source": [
    "#### Exercise 2.4\n",
    "\n",
    "* Use the **input** utility to ask the user to enter his/her age.\n",
    "\n",
    "Refer to the class slides for a description of how input works."
   ]
  },
  {
   "cell_type": "code",
   "execution_count": null,
   "metadata": {
    "collapsed": true
   },
   "outputs": [],
   "source": [
    "### YOUR CODE GOES BELOW\n",
    "\n",
    "\n",
    "### END CODE"
   ]
  },
  {
   "cell_type": "markdown",
   "metadata": {},
   "source": [
    "#### Exercise 2.5\n",
    "\n",
    "* Use the **input** utility to ask the user to enter his/her age. Assign the response to a variable called **age**"
   ]
  },
  {
   "cell_type": "code",
   "execution_count": null,
   "metadata": {
    "collapsed": true
   },
   "outputs": [],
   "source": [
    "### YOUR CODE GOES BELOW\n",
    "\n",
    "\n",
    "### END CODE"
   ]
  },
  {
   "cell_type": "markdown",
   "metadata": {},
   "source": [
    "#### Exercise 2.6 - Integers\n",
    "\n",
    "* Use the input function to obtain a **number** from the user. The number must be a positive integer\n",
    "* Divide the number by 4 using the **/** operator and display the result\n",
    "* Divide the number by 4 usin the **//** operator (integer divide) and display the result\n",
    "* Find the modulus of the number by 4 using the modulus operator **%** and display the result (example: newNumber = number%4)\n",
    "\n",
    "Notice the result and see if you can understand how they are different."
   ]
  },
  {
   "cell_type": "code",
   "execution_count": null,
   "metadata": {
    "collapsed": true
   },
   "outputs": [],
   "source": [
    "### YOUR CODE GOES BELOW\n",
    "\n",
    "\n",
    "### END CODE"
   ]
  },
  {
   "cell_type": "markdown",
   "metadata": {},
   "source": [
    "#### Exercise 2.7 - Floats\n",
    "\n",
    "* Use the input function to obtain a **number** from the user. The number must be a floating point number. An example of a floating point is 10.54 - where there is an integer and a decimal part\n",
    "* Divide the number by 4 using the **/** operator and display the result\n",
    "* Divide the number by 4 usin the **//** operator (integer divide) and display the result\n",
    "* Find the modulus of the number by 4 using the modulus operator **%** and display the result (example: newNumber = number%4)\n",
    "\n",
    "Try to understand the difference between how mathematical operations differ when operated on floats and integers"
   ]
  },
  {
   "cell_type": "code",
   "execution_count": null,
   "metadata": {
    "collapsed": true
   },
   "outputs": [],
   "source": [
    "### YOUR CODE GOES BELOW\n",
    "\n",
    "\n",
    "### END CODE"
   ]
  },
  {
   "cell_type": "markdown",
   "metadata": {},
   "source": [
    "#### Exercise 2.8 - Booleans\n",
    "\n",
    "* Create an integer variable called **myAge** and assign the value 21 to it\n",
    "* Create another integer variable called **yourAge** and assign the value 25 to it.\n",
    "* Use the comparison operator \"==\" (double-equals) to compare the two variables. Assign the result of the comparison to a new variable called **result**\n",
    "* Display **result**.\n",
    "* Repeat the same comparison and result display with the following comparison operations \">\" (greater than), \"<\" (less than), \">=\" (greater than or equal to) and \"<=\" (less than or equal to)\n",
    "\n",
    "Notice that the result of a comparison operation can be variable, a boolean variable. "
   ]
  },
  {
   "cell_type": "code",
   "execution_count": null,
   "metadata": {
    "collapsed": true
   },
   "outputs": [],
   "source": [
    "### YOUR CODE GOES BELOW\n",
    "\n",
    "\n",
    "### END CODE"
   ]
  },
  {
   "cell_type": "markdown",
   "metadata": {},
   "source": [
    "####  Exercise 2.9 - Type operator\n",
    "\n",
    "* Use the input function to obtain a number from the user. The number must be a floating point number. An example of a floating point is 10.54 - where there is an integer and a decimal part\n",
    "* Use the **type** function, to display the type of this number\n",
    "* Repeat the above 2 steps for variables of type integer, bool and string\n",
    "\n",
    "Note, to use the type operator, you would just invoke it as well\n",
    "\n",
    "type(variable_name)\n"
   ]
  },
  {
   "cell_type": "code",
   "execution_count": null,
   "metadata": {},
   "outputs": [],
   "source": [
    "### YOUR CODE GOES BELOW\n",
    "\n",
    "\n",
    "### END CODE"
   ]
  },
  {
   "cell_type": "markdown",
   "metadata": {},
   "source": [
    "####  Exercise 2.10 - Printing your name\n",
    "\n",
    "* Write a Python program to print your name in the below pattern\n",
    "* For example, if your name is Charlie, you will print the below pattern\n",
    "\n",
    "```\n",
    "C\n",
    "CH\n",
    "CHA\n",
    "CHAR\n",
    "CHARL\n",
    "CHARLI\n",
    "CHARLIE\n",
    "```"
   ]
  },
  {
   "cell_type": "code",
   "execution_count": null,
   "metadata": {},
   "outputs": [],
   "source": [
    "### YOUR CODE GOES BELOW\n",
    "\n",
    "\n",
    "### END CODE"
   ]
  }
 ],
 "metadata": {
  "kernelspec": {
   "display_name": "Python 3",
   "language": "python",
   "name": "python3"
  },
  "language_info": {
   "codemirror_mode": {
    "name": "ipython",
    "version": 3
   },
   "file_extension": ".py",
   "mimetype": "text/x-python",
   "name": "python",
   "nbconvert_exporter": "python",
   "pygments_lexer": "ipython3",
   "version": "3.8.5"
  }
 },
 "nbformat": 4,
 "nbformat_minor": 2
}
