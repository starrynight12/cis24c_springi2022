{
 "cells": [
  {
   "cell_type": "markdown",
   "metadata": {},
   "source": [
    "# CIS024C - Spring Intercession 2022\n",
    "\n",
    "## Lab 8\n",
    "\n",
    "*Lab 8 tests the below content*\n",
    "\n",
    "Working with external libraries\n",
    "\n",
    "Python Modules\n",
    "\n",
    "Feel free to search the web for how you can solve these exercises.\n",
    "\n",
    "We will review them during class.\n",
    "\n",
    "**Students will be given partial credit for attemping to solve the exercises. You will be given the solutions during class and are required to use the solution to update your lab with the correct solutions**\n",
    "\n",
    "You will need to download this notebook and use this as a starting point for your homework. You will just need to fill in the content of each code-block (cell) and execute. Once you have completed all the exercises, you will need to save this notebook and upload it into Canvas.\n",
    "\n",
    "Note also the exercises build on top of one another so you might be able to do the next exercise if you have not completed the previous exercise.\n",
    "\n",
    "Post any questions you have on our Slack discussions channel"
   ]
  },
  {
   "cell_type": "markdown",
   "metadata": {},
   "source": [
    "### Using External Libraries"
   ]
  },
  {
   "cell_type": "markdown",
   "metadata": {},
   "source": [
    "#### Exercise 1  (20 points)\n",
    "\n",
    "Write Python program to show the current working directory and list the files present in the current working directory with extension ipynb.\n",
    "\n",
    "Refer to the instructions here for supported libraries that can help you do this - https://flexiple.com/python-get-current-directory/"
   ]
  },
  {
   "cell_type": "code",
   "execution_count": null,
   "metadata": {},
   "outputs": [],
   "source": [
    "# SAMPLE OUTPUT\n",
    "# the resulting output should list the contents of your directory, similar to \n",
    "# how the contents of my directory are listed here\n",
    "!ls -l *.ipynb"
   ]
  },
  {
   "cell_type": "code",
   "execution_count": null,
   "metadata": {},
   "outputs": [],
   "source": [
    "### YOUR CODE GOES BELOW\n",
    "\n",
    "\n",
    "### END CODE"
   ]
  },
  {
   "cell_type": "markdown",
   "metadata": {},
   "source": [
    "#### Exercise 2 (20 points)\n",
    "\n",
    "Write a Python program that uses the math library and does the following\n",
    "\n",
    "**Algorithm:**\n",
    "\n",
    "* Loop till user has no further input\n",
    "    * Get a number from the user\n",
    "    * Print the sine of the number (convert from degrees to radians)\n",
    "    * Print the cosine of the number (convert from degrees to radians)\n",
    "    * Print log to the base 10 of the number\n",
    "    * Print log to the base e of the number \n",
    "    \n",
    "Reference: https://docs.python.org/3/library/math.html \n"
   ]
  },
  {
   "cell_type": "code",
   "execution_count": null,
   "metadata": {},
   "outputs": [],
   "source": [
    "### YOUR CODE GOES BELOW\n",
    "\n",
    "\n",
    "### END CODE"
   ]
  },
  {
   "cell_type": "markdown",
   "metadata": {},
   "source": [
    "#### Exercise 3 (20 points)\n",
    "\n",
    "Write a Python program that simulates a pair of dice for the user\n",
    "\n",
    "**Algorithm**\n",
    "\n",
    "* Loop till user wants to stop the dice roll\n",
    "    * Simulate two dice roll. \n",
    "    * Display the two numbers\n",
    "    \n",
    "Reference: https://docs.python.org/3/library/random.html\n"
   ]
  },
  {
   "cell_type": "code",
   "execution_count": null,
   "metadata": {},
   "outputs": [],
   "source": [
    "### YOUR CODE GOES BELOW\n",
    "\n",
    "\n",
    "\n",
    "### END CODE"
   ]
  },
  {
   "cell_type": "markdown",
   "metadata": {},
   "source": [
    "#### Exercise 4 (20 points)\n",
    "\n",
    "Write a Python program to convert the temperature for the below\n",
    "\n",
    "* Fahrenheit to Centigrade and vice versa\n",
    "* Fahrenheit to Kelvin and vice versa\n",
    "* Kelvin to Centigrade and vice versa\n",
    "\n",
    "You should write functions to do each of these operations. The functions should be present in an external .py file named helper.py\n",
    "\n",
    "Your main program will do the following\n",
    "\n",
    "**Algorithm**\n",
    "\n",
    "* Import your module\n",
    "* Loop till use is done\n",
    "    * Ask user to select an option from the 6 available options \n",
    "    * Get the input temperature value\n",
    "    * Display the converted temperature value\n",
    "\n"
   ]
  },
  {
   "cell_type": "code",
   "execution_count": null,
   "metadata": {},
   "outputs": [],
   "source": [
    "### YOUR CODE GOES BELOW\n",
    "\n",
    "\n",
    "\n",
    "### END CODE"
   ]
  },
  {
   "cell_type": "markdown",
   "metadata": {},
   "source": [
    "#### Exercise 5 (20 points)\n",
    "\n",
    "Write a Python program to find the areas of the shapes of the following figures\n",
    "\n",
    "* Circle \n",
    "* Square\n",
    "* Rectangle\n",
    "\n",
    "You should write functions to do each of these operations. The functions should be present in an external .py file named helper.py\n",
    "\n",
    "Your main program will do the following\n",
    "\n",
    "**Algorithm**\n",
    "\n",
    "* Import your module\n",
    "* Loop till use is done\n",
    "    * Ask user to select an option from the 3 available options \n",
    "    * Get the input value from the user depending on the shape\n",
    "    * Display the area of the shape using the functions in your helper module"
   ]
  },
  {
   "cell_type": "code",
   "execution_count": null,
   "metadata": {},
   "outputs": [],
   "source": [
    "### YOUR CODE GOES BELOW\n",
    "\n",
    "\n",
    "\n",
    "### END CODE"
   ]
  },
  {
   "cell_type": "markdown",
   "metadata": {},
   "source": [
    "## When completed, Save, download the notebook and upload into Canvas"
   ]
  },
  {
   "cell_type": "code",
   "execution_count": null,
   "metadata": {},
   "outputs": [],
   "source": []
  }
 ],
 "metadata": {
  "kernelspec": {
   "display_name": "Python 3",
   "language": "python",
   "name": "python3"
  },
  "language_info": {
   "codemirror_mode": {
    "name": "ipython",
    "version": 3
   },
   "file_extension": ".py",
   "mimetype": "text/x-python",
   "name": "python",
   "nbconvert_exporter": "python",
   "pygments_lexer": "ipython3",
   "version": "3.8.5"
  }
 },
 "nbformat": 4,
 "nbformat_minor": 2
}
